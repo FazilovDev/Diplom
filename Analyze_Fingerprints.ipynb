{
 "cells": [
  {
   "cell_type": "code",
   "execution_count": 20,
   "metadata": {},
   "outputs": [],
   "source": [
    "import os\n",
    "directory = 'Tests\\\\set\\\\'\n",
    "\n",
    "files = os.listdir(directory)"
   ]
  },
  {
   "cell_type": "code",
   "execution_count": 21,
   "metadata": {},
   "outputs": [],
   "source": [
    "k = 8\n",
    "w = 3\n",
    "q = 703"
   ]
  },
  {
   "cell_type": "code",
   "execution_count": 22,
   "metadata": {},
   "outputs": [],
   "source": [
    "from models.algorithms.winnowing import get_fingerprints\n",
    "import time"
   ]
  },
  {
   "cell_type": "code",
   "execution_count": 23,
   "metadata": {},
   "outputs": [],
   "source": [
    "def check(count):\n",
    "    count_files = int(len(files) * 0.2)\n",
    "    start_time = time.time()\n",
    "    for i in range(count_files):\n",
    "        for j in range(count_files):\n",
    "            if i != j:\n",
    "                result = get_fingerprints(directory + files[i], directory + files[j],k,q,w)\n",
    "                print('{0} : {1} - {2}'.format(files[i],files[j], result[2]))\n",
    "    end_time = time.time()\n",
    "    res_time = end_time - start_time\n",
    "    print('Time: {}'.format(res_time))\n",
    "    return res_time"
   ]
  },
  {
   "cell_type": "code",
   "execution_count": 24,
   "metadata": {},
   "outputs": [],
   "source": [
    "count = [0.1,0.2,0.4,0.5,0.6,0.8,0.9,1]"
   ]
  },
  {
   "cell_type": "code",
   "execution_count": 25,
   "metadata": {},
   "outputs": [
    {
     "name": "stdout",
     "output_type": "stream",
     "text": [
      "first_lab_Avakyan.py : lab-1-fedyashov.py - 0.463519313304721\n",
      "first_lab_Avakyan.py : lab-1-pandas-r6u.py - 1.0\n",
      "first_lab_Avakyan.py : lab-1-pandas-ru.py - 0.592274678111588\n",
      "first_lab_Avakyan.py : lab-1-pandas-ru5.py - 0.48497854077253216\n",
      "lab-1-fedyashov.py : first_lab_Avakyan.py - 0.463519313304721\n",
      "lab-1-fedyashov.py : lab-1-pandas-r6u.py - 0.463519313304721\n",
      "lab-1-fedyashov.py : lab-1-pandas-ru.py - 0.5201612903225806\n",
      "lab-1-fedyashov.py : lab-1-pandas-ru5.py - 0.516260162601626\n",
      "lab-1-pandas-r6u.py : first_lab_Avakyan.py - 1.0\n",
      "lab-1-pandas-r6u.py : lab-1-fedyashov.py - 0.463519313304721\n",
      "lab-1-pandas-r6u.py : lab-1-pandas-ru.py - 0.592274678111588\n",
      "lab-1-pandas-r6u.py : lab-1-pandas-ru5.py - 0.48497854077253216\n",
      "lab-1-pandas-ru.py : first_lab_Avakyan.py - 0.592274678111588\n",
      "lab-1-pandas-ru.py : lab-1-fedyashov.py - 0.5201612903225806\n",
      "lab-1-pandas-ru.py : lab-1-pandas-r6u.py - 0.592274678111588\n",
      "lab-1-pandas-ru.py : lab-1-pandas-ru5.py - 0.5365853658536586\n",
      "lab-1-pandas-ru5.py : first_lab_Avakyan.py - 0.48497854077253216\n",
      "lab-1-pandas-ru5.py : lab-1-fedyashov.py - 0.516260162601626\n",
      "lab-1-pandas-ru5.py : lab-1-pandas-r6u.py - 0.48497854077253216\n",
      "lab-1-pandas-ru5.py : lab-1-pandas-ru.py - 0.5365853658536586\n",
      "Time: 1.145082712173462\n",
      "first_lab_Avakyan.py : lab-1-fedyashov.py - 0.463519313304721\n",
      "first_lab_Avakyan.py : lab-1-pandas-r6u.py - 1.0\n",
      "first_lab_Avakyan.py : lab-1-pandas-ru.py - 0.592274678111588\n",
      "first_lab_Avakyan.py : lab-1-pandas-ru5.py - 0.48497854077253216\n",
      "lab-1-fedyashov.py : first_lab_Avakyan.py - 0.463519313304721\n",
      "lab-1-fedyashov.py : lab-1-pandas-r6u.py - 0.463519313304721\n",
      "lab-1-fedyashov.py : lab-1-pandas-ru.py - 0.5201612903225806\n",
      "lab-1-fedyashov.py : lab-1-pandas-ru5.py - 0.516260162601626\n",
      "lab-1-pandas-r6u.py : first_lab_Avakyan.py - 1.0\n",
      "lab-1-pandas-r6u.py : lab-1-fedyashov.py - 0.463519313304721\n",
      "lab-1-pandas-r6u.py : lab-1-pandas-ru.py - 0.592274678111588\n",
      "lab-1-pandas-r6u.py : lab-1-pandas-ru5.py - 0.48497854077253216\n",
      "lab-1-pandas-ru.py : first_lab_Avakyan.py - 0.592274678111588\n",
      "lab-1-pandas-ru.py : lab-1-fedyashov.py - 0.5201612903225806\n",
      "lab-1-pandas-ru.py : lab-1-pandas-r6u.py - 0.592274678111588\n",
      "lab-1-pandas-ru.py : lab-1-pandas-ru5.py - 0.5365853658536586\n",
      "lab-1-pandas-ru5.py : first_lab_Avakyan.py - 0.48497854077253216\n",
      "lab-1-pandas-ru5.py : lab-1-fedyashov.py - 0.516260162601626\n",
      "lab-1-pandas-ru5.py : lab-1-pandas-r6u.py - 0.48497854077253216\n",
      "lab-1-pandas-ru5.py : lab-1-pandas-ru.py - 0.5365853658536586\n",
      "Time: 1.0280735492706299\n",
      "first_lab_Avakyan.py : lab-1-fedyashov.py - 0.463519313304721\n",
      "first_lab_Avakyan.py : lab-1-pandas-r6u.py - 1.0\n",
      "first_lab_Avakyan.py : lab-1-pandas-ru.py - 0.592274678111588\n",
      "first_lab_Avakyan.py : lab-1-pandas-ru5.py - 0.48497854077253216\n",
      "lab-1-fedyashov.py : first_lab_Avakyan.py - 0.463519313304721\n",
      "lab-1-fedyashov.py : lab-1-pandas-r6u.py - 0.463519313304721\n",
      "lab-1-fedyashov.py : lab-1-pandas-ru.py - 0.5201612903225806\n",
      "lab-1-fedyashov.py : lab-1-pandas-ru5.py - 0.516260162601626\n",
      "lab-1-pandas-r6u.py : first_lab_Avakyan.py - 1.0\n",
      "lab-1-pandas-r6u.py : lab-1-fedyashov.py - 0.463519313304721\n",
      "lab-1-pandas-r6u.py : lab-1-pandas-ru.py - 0.592274678111588\n",
      "lab-1-pandas-r6u.py : lab-1-pandas-ru5.py - 0.48497854077253216\n",
      "lab-1-pandas-ru.py : first_lab_Avakyan.py - 0.592274678111588\n",
      "lab-1-pandas-ru.py : lab-1-fedyashov.py - 0.5201612903225806\n",
      "lab-1-pandas-ru.py : lab-1-pandas-r6u.py - 0.592274678111588\n",
      "lab-1-pandas-ru.py : lab-1-pandas-ru5.py - 0.5365853658536586\n",
      "lab-1-pandas-ru5.py : first_lab_Avakyan.py - 0.48497854077253216\n",
      "lab-1-pandas-ru5.py : lab-1-fedyashov.py - 0.516260162601626\n",
      "lab-1-pandas-ru5.py : lab-1-pandas-r6u.py - 0.48497854077253216\n",
      "lab-1-pandas-ru5.py : lab-1-pandas-ru.py - 0.5365853658536586\n",
      "Time: 1.0580780506134033\n",
      "first_lab_Avakyan.py : lab-1-fedyashov.py - 0.463519313304721\n",
      "first_lab_Avakyan.py : lab-1-pandas-r6u.py - 1.0\n",
      "first_lab_Avakyan.py : lab-1-pandas-ru.py - 0.592274678111588\n",
      "first_lab_Avakyan.py : lab-1-pandas-ru5.py - 0.48497854077253216\n",
      "lab-1-fedyashov.py : first_lab_Avakyan.py - 0.463519313304721\n",
      "lab-1-fedyashov.py : lab-1-pandas-r6u.py - 0.463519313304721\n",
      "lab-1-fedyashov.py : lab-1-pandas-ru.py - 0.5201612903225806\n",
      "lab-1-fedyashov.py : lab-1-pandas-ru5.py - 0.516260162601626\n",
      "lab-1-pandas-r6u.py : first_lab_Avakyan.py - 1.0\n",
      "lab-1-pandas-r6u.py : lab-1-fedyashov.py - 0.463519313304721\n",
      "lab-1-pandas-r6u.py : lab-1-pandas-ru.py - 0.592274678111588\n",
      "lab-1-pandas-r6u.py : lab-1-pandas-ru5.py - 0.48497854077253216\n",
      "lab-1-pandas-ru.py : first_lab_Avakyan.py - 0.592274678111588\n",
      "lab-1-pandas-ru.py : lab-1-fedyashov.py - 0.5201612903225806\n",
      "lab-1-pandas-ru.py : lab-1-pandas-r6u.py - 0.592274678111588\n",
      "lab-1-pandas-ru.py : lab-1-pandas-ru5.py - 0.5365853658536586\n",
      "lab-1-pandas-ru5.py : first_lab_Avakyan.py - 0.48497854077253216\n",
      "lab-1-pandas-ru5.py : lab-1-fedyashov.py - 0.516260162601626\n",
      "lab-1-pandas-ru5.py : lab-1-pandas-r6u.py - 0.48497854077253216\n",
      "lab-1-pandas-ru5.py : lab-1-pandas-ru.py - 0.5365853658536586\n",
      "Time: 1.0730812549591064\n",
      "first_lab_Avakyan.py : lab-1-fedyashov.py - 0.463519313304721\n",
      "first_lab_Avakyan.py : lab-1-pandas-r6u.py - 1.0\n",
      "first_lab_Avakyan.py : lab-1-pandas-ru.py - 0.592274678111588\n",
      "first_lab_Avakyan.py : lab-1-pandas-ru5.py - 0.48497854077253216\n",
      "lab-1-fedyashov.py : first_lab_Avakyan.py - 0.463519313304721\n",
      "lab-1-fedyashov.py : lab-1-pandas-r6u.py - 0.463519313304721\n",
      "lab-1-fedyashov.py : lab-1-pandas-ru.py - 0.5201612903225806\n",
      "lab-1-fedyashov.py : lab-1-pandas-ru5.py - 0.516260162601626\n",
      "lab-1-pandas-r6u.py : first_lab_Avakyan.py - 1.0\n",
      "lab-1-pandas-r6u.py : lab-1-fedyashov.py - 0.463519313304721\n",
      "lab-1-pandas-r6u.py : lab-1-pandas-ru.py - 0.592274678111588\n",
      "lab-1-pandas-r6u.py : lab-1-pandas-ru5.py - 0.48497854077253216\n",
      "lab-1-pandas-ru.py : first_lab_Avakyan.py - 0.592274678111588\n",
      "lab-1-pandas-ru.py : lab-1-fedyashov.py - 0.5201612903225806\n",
      "lab-1-pandas-ru.py : lab-1-pandas-r6u.py - 0.592274678111588\n",
      "lab-1-pandas-ru.py : lab-1-pandas-ru5.py - 0.5365853658536586\n",
      "lab-1-pandas-ru5.py : first_lab_Avakyan.py - 0.48497854077253216\n",
      "lab-1-pandas-ru5.py : lab-1-fedyashov.py - 0.516260162601626\n",
      "lab-1-pandas-ru5.py : lab-1-pandas-r6u.py - 0.48497854077253216\n",
      "lab-1-pandas-ru5.py : lab-1-pandas-ru.py - 0.5365853658536586\n",
      "Time: 1.0770766735076904\n",
      "first_lab_Avakyan.py : lab-1-fedyashov.py - 0.463519313304721\n",
      "first_lab_Avakyan.py : lab-1-pandas-r6u.py - 1.0\n",
      "first_lab_Avakyan.py : lab-1-pandas-ru.py - 0.592274678111588\n",
      "first_lab_Avakyan.py : lab-1-pandas-ru5.py - 0.48497854077253216\n",
      "lab-1-fedyashov.py : first_lab_Avakyan.py - 0.463519313304721\n",
      "lab-1-fedyashov.py : lab-1-pandas-r6u.py - 0.463519313304721\n",
      "lab-1-fedyashov.py : lab-1-pandas-ru.py - 0.5201612903225806\n",
      "lab-1-fedyashov.py : lab-1-pandas-ru5.py - 0.516260162601626\n",
      "lab-1-pandas-r6u.py : first_lab_Avakyan.py - 1.0\n",
      "lab-1-pandas-r6u.py : lab-1-fedyashov.py - 0.463519313304721\n",
      "lab-1-pandas-r6u.py : lab-1-pandas-ru.py - 0.592274678111588\n",
      "lab-1-pandas-r6u.py : lab-1-pandas-ru5.py - 0.48497854077253216\n",
      "lab-1-pandas-ru.py : first_lab_Avakyan.py - 0.592274678111588\n",
      "lab-1-pandas-ru.py : lab-1-fedyashov.py - 0.5201612903225806\n",
      "lab-1-pandas-ru.py : lab-1-pandas-r6u.py - 0.592274678111588\n",
      "lab-1-pandas-ru.py : lab-1-pandas-ru5.py - 0.5365853658536586\n",
      "lab-1-pandas-ru5.py : first_lab_Avakyan.py - 0.48497854077253216\n",
      "lab-1-pandas-ru5.py : lab-1-fedyashov.py - 0.516260162601626\n",
      "lab-1-pandas-ru5.py : lab-1-pandas-r6u.py - 0.48497854077253216\n",
      "lab-1-pandas-ru5.py : lab-1-pandas-ru.py - 0.5365853658536586\n",
      "Time: 1.1060824394226074\n",
      "first_lab_Avakyan.py : lab-1-fedyashov.py - 0.463519313304721\n",
      "first_lab_Avakyan.py : lab-1-pandas-r6u.py - 1.0\n",
      "first_lab_Avakyan.py : lab-1-pandas-ru.py - 0.592274678111588\n",
      "first_lab_Avakyan.py : lab-1-pandas-ru5.py - 0.48497854077253216\n",
      "lab-1-fedyashov.py : first_lab_Avakyan.py - 0.463519313304721\n",
      "lab-1-fedyashov.py : lab-1-pandas-r6u.py - 0.463519313304721\n",
      "lab-1-fedyashov.py : lab-1-pandas-ru.py - 0.5201612903225806\n",
      "lab-1-fedyashov.py : lab-1-pandas-ru5.py - 0.516260162601626\n",
      "lab-1-pandas-r6u.py : first_lab_Avakyan.py - 1.0\n",
      "lab-1-pandas-r6u.py : lab-1-fedyashov.py - 0.463519313304721\n",
      "lab-1-pandas-r6u.py : lab-1-pandas-ru.py - 0.592274678111588\n",
      "lab-1-pandas-r6u.py : lab-1-pandas-ru5.py - 0.48497854077253216\n",
      "lab-1-pandas-ru.py : first_lab_Avakyan.py - 0.592274678111588\n",
      "lab-1-pandas-ru.py : lab-1-fedyashov.py - 0.5201612903225806\n",
      "lab-1-pandas-ru.py : lab-1-pandas-r6u.py - 0.592274678111588\n"
     ]
    },
    {
     "name": "stdout",
     "output_type": "stream",
     "text": [
      "lab-1-pandas-ru.py : lab-1-pandas-ru5.py - 0.5365853658536586\n",
      "lab-1-pandas-ru5.py : first_lab_Avakyan.py - 0.48497854077253216\n",
      "lab-1-pandas-ru5.py : lab-1-fedyashov.py - 0.516260162601626\n",
      "lab-1-pandas-ru5.py : lab-1-pandas-r6u.py - 0.48497854077253216\n",
      "lab-1-pandas-ru5.py : lab-1-pandas-ru.py - 0.5365853658536586\n",
      "Time: 1.0820801258087158\n",
      "first_lab_Avakyan.py : lab-1-fedyashov.py - 0.463519313304721\n",
      "first_lab_Avakyan.py : lab-1-pandas-r6u.py - 1.0\n",
      "first_lab_Avakyan.py : lab-1-pandas-ru.py - 0.592274678111588\n",
      "first_lab_Avakyan.py : lab-1-pandas-ru5.py - 0.48497854077253216\n",
      "lab-1-fedyashov.py : first_lab_Avakyan.py - 0.463519313304721\n",
      "lab-1-fedyashov.py : lab-1-pandas-r6u.py - 0.463519313304721\n",
      "lab-1-fedyashov.py : lab-1-pandas-ru.py - 0.5201612903225806\n",
      "lab-1-fedyashov.py : lab-1-pandas-ru5.py - 0.516260162601626\n",
      "lab-1-pandas-r6u.py : first_lab_Avakyan.py - 1.0\n",
      "lab-1-pandas-r6u.py : lab-1-fedyashov.py - 0.463519313304721\n",
      "lab-1-pandas-r6u.py : lab-1-pandas-ru.py - 0.592274678111588\n",
      "lab-1-pandas-r6u.py : lab-1-pandas-ru5.py - 0.48497854077253216\n",
      "lab-1-pandas-ru.py : first_lab_Avakyan.py - 0.592274678111588\n",
      "lab-1-pandas-ru.py : lab-1-fedyashov.py - 0.5201612903225806\n",
      "lab-1-pandas-ru.py : lab-1-pandas-r6u.py - 0.592274678111588\n",
      "lab-1-pandas-ru.py : lab-1-pandas-ru5.py - 0.5365853658536586\n",
      "lab-1-pandas-ru5.py : first_lab_Avakyan.py - 0.48497854077253216\n",
      "lab-1-pandas-ru5.py : lab-1-fedyashov.py - 0.516260162601626\n",
      "lab-1-pandas-ru5.py : lab-1-pandas-r6u.py - 0.48497854077253216\n",
      "lab-1-pandas-ru5.py : lab-1-pandas-ru.py - 0.5365853658536586\n",
      "Time: 1.0130736827850342\n"
     ]
    }
   ],
   "source": [
    "x = []\n",
    "y = []\n",
    "for i in count:\n",
    "    count_files = int(len(files) * i)\n",
    "    x.append(count_files)\n",
    "    y.append(check(i))\n",
    "    "
   ]
  },
  {
   "cell_type": "code",
   "execution_count": 26,
   "metadata": {},
   "outputs": [],
   "source": [
    "import matplotlib.pyplot as plt"
   ]
  },
  {
   "cell_type": "code",
   "execution_count": 27,
   "metadata": {},
   "outputs": [
    {
     "data": {
      "text/plain": [
       "[<matplotlib.lines.Line2D at 0x291195df940>]"
      ]
     },
     "execution_count": 27,
     "metadata": {},
     "output_type": "execute_result"
    },
    {
     "data": {
      "image/png": "[encoded data removed]",
      "text/plain": [
       "<Figure size 432x288 with 1 Axes>"
      ]
     },
     "metadata": {
      "needs_background": "light"
     },
     "output_type": "display_data"
    }
   ],
   "source": [
    "plt.plot(x,y)"
   ]
  },
  {
   "cell_type": "code",
   "execution_count": null,
   "metadata": {},
   "outputs": [],
   "source": []
  }
 ],
 "metadata": {
  "kernelspec": {
   "display_name": "Python 3",
   "language": "python",
   "name": "python3"
  },
  "language_info": {
   "codemirror_mode": {
    "name": "ipython",
    "version": 3
   },
   "file_extension": ".py",
   "mimetype": "text/x-python",
   "name": "python",
   "nbconvert_exporter": "python",
   "pygments_lexer": "ipython3",
   "version": "3.8.5"
  }
 },
 "nbformat": 4,
 "nbformat_minor": 4
}
