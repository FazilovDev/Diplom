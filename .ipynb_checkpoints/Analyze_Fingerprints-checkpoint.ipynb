{
 "cells": [
  {
   "cell_type": "code",
   "execution_count": 9,
   "metadata": {},
   "outputs": [],
   "source": [
    "import os\n",
    "directory = 'Tests\\\\set\\\\'\n",
    "\n",
    "files = os.listdir(directory)"
   ]
  },
  {
   "cell_type": "code",
   "execution_count": 10,
   "metadata": {},
   "outputs": [],
   "source": [
    "k = 8\n",
    "w = 3\n",
    "q = 703"
   ]
  },
  {
   "cell_type": "code",
   "execution_count": 11,
   "metadata": {},
   "outputs": [],
   "source": [
    "from models.algorithms.winnowing import get_fingerprints\n",
    "import time"
   ]
  },
  {
   "cell_type": "code",
   "execution_count": 12,
   "metadata": {},
   "outputs": [],
   "source": [
    "check_plag = []\n",
    "def check(count):\n",
    "    count_files = int(len(files) * 0.2)\n",
    "    start_time = time.time()\n",
    "    for i in range(count_files):\n",
    "        for j in range(count_files):\n",
    "            if i != j:\n",
    "                result = get_fingerprints(directory + files[i], directory + files[j],k,q,w)\n",
    "                print('{0} : {1} - {2}'.format(files[i],files[j], result[2]))\n",
    "    end_time = time.time()\n",
    "    res_time = end_time - start_time\n",
    "    print('Time: {}'.format(res_time))\n",
    "    return res_time"
   ]
  },
  {
   "cell_type": "code",
   "execution_count": 14,
   "metadata": {},
   "outputs": [
    {
     "ename": "TypeError",
     "evalue": "'float' object cannot be interpreted as an integer",
     "output_type": "error",
     "traceback": [
      "\u001b[1;31m---------------------------------------------------------------------------\u001b[0m",
      "\u001b[1;31mTypeError\u001b[0m                                 Traceback (most recent call last)",
      "\u001b[1;32m<ipython-input-14-806c3a48822e>\u001b[0m in \u001b[0;36m<module>\u001b[1;34m\u001b[0m\n\u001b[1;32m----> 1\u001b[1;33m \u001b[0mcount\u001b[0m \u001b[1;33m=\u001b[0m \u001b[1;33m[\u001b[0m\u001b[0mx\u001b[0m \u001b[1;32mfor\u001b[0m \u001b[0mx\u001b[0m \u001b[1;32min\u001b[0m \u001b[0mrange\u001b[0m\u001b[1;33m(\u001b[0m\u001b[1;36m0\u001b[0m\u001b[1;33m,\u001b[0m \u001b[1;36m1.2\u001b[0m\u001b[1;33m,\u001b[0m \u001b[1;36m0.1\u001b[0m\u001b[1;33m)\u001b[0m\u001b[1;33m]\u001b[0m\u001b[1;33m\u001b[0m\u001b[1;33m\u001b[0m\u001b[0m\n\u001b[0m\u001b[0;32m      2\u001b[0m \u001b[0mprint\u001b[0m\u001b[1;33m(\u001b[0m\u001b[0mcount\u001b[0m\u001b[1;33m)\u001b[0m\u001b[1;33m\u001b[0m\u001b[1;33m\u001b[0m\u001b[0m\n",
      "\u001b[1;31mTypeError\u001b[0m: 'float' object cannot be interpreted as an integer"
     ]
    }
   ],
   "source": [
    "count = [0.1,0.2,0.4,0.5,0.6,0.8,0.9,1]"
   ]
  },
  {
   "cell_type": "code",
   "execution_count": 7,
   "metadata": {},
   "outputs": [
    {
     "name": "stdout",
     "output_type": "stream",
     "text": [
      "first_lab_Avakyan.py : lab-1-fedyashov.py - 0.463519313304721\n",
      "first_lab_Avakyan.py : lab-1-pandas-r6u.py - 1.0\n",
      "first_lab_Avakyan.py : lab-1-pandas-ru.py - 0.592274678111588\n",
      "first_lab_Avakyan.py : lab-1-pandas-ru5.py - 0.48497854077253216\n",
      "first_lab_Avakyan.py : lab-1-pandas-ru52.py - 0.5454545454545454\n",
      "first_lab_Avakyan.py : lab-1-pandas-ru6.py - 0.5364806866952789\n",
      "first_lab_Avakyan.py : lab-1-pandas-ruz.py - 0.9656652360515021\n",
      "first_lab_Avakyan.py : lab-1-pandas-ru_MEDKOV.py - 0.9356223175965666\n",
      "first_lab_Avakyan.py : lab-1-pandas-zhmurov_ru.py - 0.5793991416309013\n",
      "lab-1-fedyashov.py : first_lab_Avakyan.py - 0.463519313304721\n",
      "lab-1-fedyashov.py : lab-1-pandas-r6u.py - 0.463519313304721\n",
      "lab-1-fedyashov.py : lab-1-pandas-ru.py - 0.5201612903225806\n",
      "lab-1-fedyashov.py : lab-1-pandas-ru5.py - 0.516260162601626\n",
      "lab-1-fedyashov.py : lab-1-pandas-ru52.py - 0.46320346320346323\n",
      "lab-1-fedyashov.py : lab-1-pandas-ru6.py - 0.4090909090909091\n",
      "lab-1-fedyashov.py : lab-1-pandas-ruz.py - 0.4403292181069959\n",
      "lab-1-fedyashov.py : lab-1-pandas-ru_MEDKOV.py - 0.4595744680851064\n",
      "lab-1-fedyashov.py : lab-1-pandas-zhmurov_ru.py - 0.7680608365019012\n",
      "lab-1-pandas-r6u.py : first_lab_Avakyan.py - 1.0\n",
      "lab-1-pandas-r6u.py : lab-1-fedyashov.py - 0.463519313304721\n",
      "lab-1-pandas-r6u.py : lab-1-pandas-ru.py - 0.592274678111588\n",
      "lab-1-pandas-r6u.py : lab-1-pandas-ru5.py - 0.48497854077253216\n",
      "lab-1-pandas-r6u.py : lab-1-pandas-ru52.py - 0.5454545454545454\n",
      "lab-1-pandas-r6u.py : lab-1-pandas-ru6.py - 0.5364806866952789\n",
      "lab-1-pandas-r6u.py : lab-1-pandas-ruz.py - 0.9656652360515021\n",
      "lab-1-pandas-r6u.py : lab-1-pandas-ru_MEDKOV.py - 0.9356223175965666\n",
      "lab-1-pandas-r6u.py : lab-1-pandas-zhmurov_ru.py - 0.5793991416309013\n",
      "lab-1-pandas-ru.py : first_lab_Avakyan.py - 0.592274678111588\n",
      "lab-1-pandas-ru.py : lab-1-fedyashov.py - 0.5201612903225806\n",
      "lab-1-pandas-ru.py : lab-1-pandas-r6u.py - 0.592274678111588\n",
      "lab-1-pandas-ru.py : lab-1-pandas-ru5.py - 0.5365853658536586\n",
      "lab-1-pandas-ru.py : lab-1-pandas-ru52.py - 0.5714285714285714\n",
      "lab-1-pandas-ru.py : lab-1-pandas-ru6.py - 0.5371900826446281\n",
      "lab-1-pandas-ru.py : lab-1-pandas-ruz.py - 0.5432098765432098\n",
      "lab-1-pandas-ru.py : lab-1-pandas-ru_MEDKOV.py - 0.5914893617021276\n",
      "lab-1-pandas-ru.py : lab-1-pandas-zhmurov_ru.py - 0.5604838709677419\n",
      "lab-1-pandas-ru5.py : first_lab_Avakyan.py - 0.48497854077253216\n",
      "lab-1-pandas-ru5.py : lab-1-fedyashov.py - 0.516260162601626\n",
      "lab-1-pandas-ru5.py : lab-1-pandas-r6u.py - 0.48497854077253216\n",
      "lab-1-pandas-ru5.py : lab-1-pandas-ru.py - 0.5365853658536586\n",
      "lab-1-pandas-ru5.py : lab-1-pandas-ru52.py - 0.4935064935064935\n",
      "lab-1-pandas-ru5.py : lab-1-pandas-ru6.py - 0.4462809917355372\n",
      "lab-1-pandas-ru5.py : lab-1-pandas-ruz.py - 0.43621399176954734\n",
      "lab-1-pandas-ru5.py : lab-1-pandas-ru_MEDKOV.py - 0.4808510638297872\n",
      "lab-1-pandas-ru5.py : lab-1-pandas-zhmurov_ru.py - 0.556910569105691\n",
      "lab-1-pandas-ru52.py : first_lab_Avakyan.py - 0.5454545454545454\n",
      "lab-1-pandas-ru52.py : lab-1-fedyashov.py - 0.46320346320346323\n",
      "lab-1-pandas-ru52.py : lab-1-pandas-r6u.py - 0.5454545454545454\n",
      "lab-1-pandas-ru52.py : lab-1-pandas-ru.py - 0.5714285714285714\n",
      "lab-1-pandas-ru52.py : lab-1-pandas-ru5.py - 0.4935064935064935\n",
      "lab-1-pandas-ru52.py : lab-1-pandas-ru6.py - 0.5281385281385281\n",
      "lab-1-pandas-ru52.py : lab-1-pandas-ruz.py - 0.5411255411255411\n",
      "lab-1-pandas-ru52.py : lab-1-pandas-ru_MEDKOV.py - 0.5324675324675324\n",
      "lab-1-pandas-ru52.py : lab-1-pandas-zhmurov_ru.py - 0.5627705627705628\n",
      "lab-1-pandas-ru6.py : first_lab_Avakyan.py - 0.5364806866952789\n",
      "lab-1-pandas-ru6.py : lab-1-fedyashov.py - 0.4090909090909091\n",
      "lab-1-pandas-ru6.py : lab-1-pandas-r6u.py - 0.5364806866952789\n",
      "lab-1-pandas-ru6.py : lab-1-pandas-ru.py - 0.5371900826446281\n",
      "lab-1-pandas-ru6.py : lab-1-pandas-ru5.py - 0.4462809917355372\n",
      "lab-1-pandas-ru6.py : lab-1-pandas-ru52.py - 0.5281385281385281\n",
      "lab-1-pandas-ru6.py : lab-1-pandas-ruz.py - 0.4834710743801653\n",
      "lab-1-pandas-ru6.py : lab-1-pandas-ru_MEDKOV.py - 0.5361702127659574\n",
      "lab-1-pandas-ru6.py : lab-1-pandas-zhmurov_ru.py - 0.5371900826446281\n",
      "lab-1-pandas-ruz.py : first_lab_Avakyan.py - 0.9656652360515021\n",
      "lab-1-pandas-ruz.py : lab-1-fedyashov.py - 0.4403292181069959\n",
      "lab-1-pandas-ruz.py : lab-1-pandas-r6u.py - 0.9656652360515021\n",
      "lab-1-pandas-ruz.py : lab-1-pandas-ru.py - 0.5432098765432098\n",
      "lab-1-pandas-ruz.py : lab-1-pandas-ru5.py - 0.43621399176954734\n",
      "lab-1-pandas-ruz.py : lab-1-pandas-ru52.py - 0.5411255411255411\n",
      "lab-1-pandas-ruz.py : lab-1-pandas-ru6.py - 0.4834710743801653\n",
      "lab-1-pandas-ruz.py : lab-1-pandas-ru_MEDKOV.py - 0.8936170212765957\n",
      "lab-1-pandas-ruz.py : lab-1-pandas-zhmurov_ru.py - 0.522633744855967\n",
      "lab-1-pandas-ru_MEDKOV.py : first_lab_Avakyan.py - 0.9356223175965666\n",
      "lab-1-pandas-ru_MEDKOV.py : lab-1-fedyashov.py - 0.4595744680851064\n",
      "lab-1-pandas-ru_MEDKOV.py : lab-1-pandas-r6u.py - 0.9356223175965666\n",
      "lab-1-pandas-ru_MEDKOV.py : lab-1-pandas-ru.py - 0.5914893617021276\n",
      "lab-1-pandas-ru_MEDKOV.py : lab-1-pandas-ru5.py - 0.4808510638297872\n",
      "lab-1-pandas-ru_MEDKOV.py : lab-1-pandas-ru52.py - 0.5324675324675324\n",
      "lab-1-pandas-ru_MEDKOV.py : lab-1-pandas-ru6.py - 0.5361702127659574\n",
      "lab-1-pandas-ru_MEDKOV.py : lab-1-pandas-ruz.py - 0.8936170212765957\n",
      "lab-1-pandas-ru_MEDKOV.py : lab-1-pandas-zhmurov_ru.py - 0.574468085106383\n",
      "lab-1-pandas-zhmurov_ru.py : first_lab_Avakyan.py - 0.5793991416309013\n",
      "lab-1-pandas-zhmurov_ru.py : lab-1-fedyashov.py - 0.7680608365019012\n",
      "lab-1-pandas-zhmurov_ru.py : lab-1-pandas-r6u.py - 0.5793991416309013\n",
      "lab-1-pandas-zhmurov_ru.py : lab-1-pandas-ru.py - 0.5604838709677419\n",
      "lab-1-pandas-zhmurov_ru.py : lab-1-pandas-ru5.py - 0.556910569105691\n",
      "lab-1-pandas-zhmurov_ru.py : lab-1-pandas-ru52.py - 0.5627705627705628\n",
      "lab-1-pandas-zhmurov_ru.py : lab-1-pandas-ru6.py - 0.5371900826446281\n",
      "lab-1-pandas-zhmurov_ru.py : lab-1-pandas-ruz.py - 0.522633744855967\n",
      "lab-1-pandas-zhmurov_ru.py : lab-1-pandas-ru_MEDKOV.py - 0.574468085106383\n",
      "Time: 5.363478660583496\n"
     ]
    }
   ],
   "source": [
    "count_files = int(len(files) * 0.4)\n",
    "start_time = time.time()\n",
    "for i in range(count_files):\n",
    "    for j in range(count_files):\n",
    "        if i != j:\n",
    "            result = get_fingerprints(directory + files[i], directory + files[j],k,q,w)\n",
    "            print('{0} : {1} - {2}'.format(files[i],files[j], result[2]))\n",
    "end_time = time.time()\n",
    "res_time = end_time - start_time\n",
    "check_plag.append([count_files, res_time])\n",
    "print('Time: {}'.format(res_time))"
   ]
  },
  {
   "cell_type": "code",
   "execution_count": null,
   "metadata": {},
   "outputs": [],
   "source": []
  }
 ],
 "metadata": {
  "kernelspec": {
   "display_name": "Python 3",
   "language": "python",
   "name": "python3"
  },
  "language_info": {
   "codemirror_mode": {
    "name": "ipython",
    "version": 3
   },
   "file_extension": ".py",
   "mimetype": "text/x-python",
   "name": "python",
   "nbconvert_exporter": "python",
   "pygments_lexer": "ipython3",
   "version": "3.8.5"
  }
 },
 "nbformat": 4,
 "nbformat_minor": 4
}
