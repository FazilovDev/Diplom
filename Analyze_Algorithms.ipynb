{
 "cells": [
  {
   "cell_type": "code",
   "execution_count": null,
   "metadata": {},
   "outputs": [],
   "source": [
    "import os\n",
    "import matplotlib.pyplot as plt\n",
    "import time\n",
    "directory = 'Tests\\\\set\\\\'\n",
    "\n",
    "files = os.listdir(directory)"
   ]
  },
  {
   "cell_type": "code",
   "execution_count": null,
   "metadata": {},
   "outputs": [],
   "source": [
    "k = 8\n",
    "w = 3\n",
    "q = 703"
   ]
  },
  {
   "cell_type": "code",
   "execution_count": null,
   "metadata": {},
   "outputs": [],
   "source": [
    "from models.algorithms.winnowing import get_fingerprints\n",
    "import time"
   ]
  },
  {
   "cell_type": "code",
   "execution_count": null,
   "metadata": {},
   "outputs": [],
   "source": [
    "def check(count):\n",
    "    count_files = int(len(files) * count)\n",
    "    start_time = time.time()\n",
    "    for i in range(count_files):\n",
    "        for j in range(count_files):\n",
    "            if i != j:\n",
    "                print('File1: {0} File2: {1}'.format(files[i],files[j]))\n",
    "                result = get_fingerprints(directory + files[i], directory + files[j],k,q,w)\n",
    "                print('Plag: {}'.format(result[2]))\n",
    "    end_time = time.time()\n",
    "    res_time = end_time - start_time\n",
    "    print('Time: {}'.format(res_time))\n",
    "    return res_time"
   ]
  },
  {
   "cell_type": "code",
   "execution_count": null,
   "metadata": {},
   "outputs": [],
   "source": [
    "count = [0.1,0.2,0.4,0.5,0.6,0.8,0.9,1]"
   ]
  },
  {
   "cell_type": "code",
   "execution_count": null,
   "metadata": {},
   "outputs": [],
   "source": [
    "x = []\n",
    "y = []\n",
    "for i in count:\n",
    "    count_files = int(len(files) * i)\n",
    "    x.append(count_files)\n",
    "    y.append(check(i))\n",
    "    "
   ]
  },
  {
   "cell_type": "code",
   "execution_count": null,
   "metadata": {
    "scrolled": true
   },
   "outputs": [],
   "source": [
    "plt.title(\"Алгоритм отпечатков\") # заголовок\n",
    "plt.xlabel(\"Количество файлов\") # ось абсцисс\n",
    "plt.ylabel(\"Время\") # ось ординат\n",
    "plt.grid()      # включение отображение сетки\n",
    "plt.plot(x, y)  # построение графикаplt.plot(x,y)"
   ]
  },
  {
   "cell_type": "code",
   "execution_count": null,
   "metadata": {},
   "outputs": [],
   "source": [
    "from strsimpy.normalized_levenshtein import NormalizedLevenshtein\n",
    "from models.preprocessing.cleantext import *\n",
    "from strsimpy.cosine import Cosine"
   ]
  },
  {
   "cell_type": "code",
   "execution_count": null,
   "metadata": {},
   "outputs": [],
   "source": [
    "def check_leven(count):\n",
    "    count_files = int(len(files) * count)\n",
    "    cosine = Cosine(5)\n",
    "    start_time = time.time()\n",
    "    for i in range(count_files):\n",
    "        for j in range(count_files):\n",
    "            if i != j:\n",
    "                print('File1: {0} File2: {1}'.format(files[i],files[j]))\n",
    "                \n",
    "                text1 = toText(tokenize(directory + files[i]))\n",
    "                text2 = toText(tokenize(directory + files[j]))\n",
    "                #norm_levenshtein = NormalizedLevenshtein()\n",
    "                p0 = cosine.get_profile(text1)\n",
    "                p1 = cosine.get_profile(text2)\n",
    "                result = cosine.similarity_profiles(p0,p1)#norm_levenshtein.similarity(text1, text2)\n",
    "                print('Plag: {}'.format(result))\n",
    "    end_time = time.time()\n",
    "    res_time = end_time - start_time\n",
    "    print('Time: {}'.format(res_time))\n",
    "    return res_time"
   ]
  },
  {
   "cell_type": "code",
   "execution_count": null,
   "metadata": {},
   "outputs": [],
   "source": [
    "count = [0.1,0.2,0.4,0.5,0.6,0.8,0.9,1]\n",
    "x = []\n",
    "y = []\n",
    "for i in count:\n",
    "    count_files = int(len(files) * i)\n",
    "    x.append(count_files)\n",
    "    y.append(check_leven(i))\n",
    "    "
   ]
  },
  {
   "cell_type": "code",
   "execution_count": null,
   "metadata": {},
   "outputs": [],
   "source": [
    "plt.title(\"Косинусное расстояние\") # заголовок\n",
    "plt.xlabel(\"Количество файлов\") # ось абсцисс\n",
    "plt.ylabel(\"Время\") # ось ординат\n",
    "plt.grid()      # включение отображение сетки\n",
    "plt.plot(x, y)  # построение графикаplt.plot(x,y)"
   ]
  },
  {
   "cell_type": "code",
   "execution_count": null,
   "metadata": {},
   "outputs": [],
   "source": [
    "from ast_git import get_clones"
   ]
  },
  {
   "cell_type": "code",
   "execution_count": null,
   "metadata": {},
   "outputs": [],
   "source": [
    "start = time.time()\n",
    "get_clones([directory + file for file in files])\n",
    "end = time.time()\n",
    "print('Time: {}'.format(end-start))"
   ]
  },
  {
   "cell_type": "code",
   "execution_count": null,
   "metadata": {},
   "outputs": [],
   "source": [
    "def check_tree(count):\n",
    "    count_files = int(len(files) * count)\n",
    "    start_time = time.time()\n",
    "    for i in range(count_files):\n",
    "        for j in range(count_files):\n",
    "            if i != j:\n",
    "                get_clones([directory+files[i],directory+files[j]])\n",
    "    end_time = time.time()\n",
    "    res_time = end_time - start_time\n",
    "    print('Time: {}'.format(res_time))\n",
    "    return res_time"
   ]
  },
  {
   "cell_type": "code",
   "execution_count": null,
   "metadata": {},
   "outputs": [],
   "source": [
    "count = [0.1,0.2,0.4,0.5,0.6,0.8,0.9,1]\n",
    "x = []\n",
    "y = []\n",
    "for i in count:\n",
    "    count_files = int(len(files) * i)\n",
    "    x.append(count_files)\n",
    "    y.append(check_tree(i))"
   ]
  },
  {
   "cell_type": "code",
   "execution_count": null,
   "metadata": {},
   "outputs": [],
   "source": [
    "plt.title(\"AST\") # заголовок\n",
    "plt.xlabel(\"Количество файлов\") # ось абсцисс\n",
    "plt.ylabel(\"Время\") # ось ординат\n",
    "plt.grid()      # включение отображение сетки\n",
    "plt.plot(x, y)  # построение графикаplt.plot(x,y)"
   ]
  },
  {
   "cell_type": "code",
   "execution_count": 17,
   "metadata": {},
   "outputs": [],
   "source": [
    "import os\n",
    "import matplotlib.pyplot as plt\n",
    "import time\n",
    "directory = 'Tests\\\\set\\\\'\n",
    "\n",
    "files = os.listdir(directory)\n",
    "from ast_git import get_clones, get_plag_combination"
   ]
  },
  {
   "cell_type": "code",
   "execution_count": 23,
   "metadata": {},
   "outputs": [],
   "source": [
    "def check_comb(count):\n",
    "    count_files = int(len(files) * count)\n",
    "    start_time = time.time()\n",
    "    res = []\n",
    "    for i in range(count_files):\n",
    "        for j in range(count_files):\n",
    "            if i != j:\n",
    "                res.append(get_plag_combination(directory+files[i],directory+files[j], 8, 277, 5, 5, 703, 3))\n",
    "    end_time = time.time()\n",
    "    res_time = end_time - start_time\n",
    "    return res"
   ]
  },
  {
   "cell_type": "code",
   "execution_count": 24,
   "metadata": {},
   "outputs": [],
   "source": [
    "count = [0.1,0.2,0.4,0.5,0.6,0.8,0.9,1]\n",
    "\n",
    "x = [i for i in range(len(files))]\n",
    "y = check_comb(0.7)"
   ]
  },
  {
   "cell_type": "code",
   "execution_count": 25,
   "metadata": {},
   "outputs": [],
   "source": [
    "y1 = []\n",
    "y2 = []\n",
    "y3 = []\n",
    "for i in y:\n",
    "    if i != None:\n",
    "        y1.append(i[0])\n",
    "        y2.append(i[1])\n",
    "        y3.append((i[1]+i[0])/2)\n",
    "x = [i for i in range(len(y1))]"
   ]
  },
  {
   "cell_type": "code",
   "execution_count": 26,
   "metadata": {},
   "outputs": [
    {
     "data": {
      "image/png": "[encoded data removed]",
      "text/plain": [
       "<Figure size 432x288 with 1 Axes>"
      ]
     },
     "metadata": {
      "needs_background": "light"
     },
     "output_type": "display_data"
    }
   ],
   "source": [
    "plt.plot(x, y1, label='Fingerprints')\n",
    "plt.legend()\n",
    "plt.plot(x, y2, label='Combination')\n",
    "plt.legend()\n",
    "#plt.plot(x, y3, '--',label='Average')\n",
    "#plt.legend()\n",
    "plt.xlabel('Files', fontsize=15)\n",
    "plt.ylabel('Plagiarism', fontsize=15)\n",
    "plt.grid(True)"
   ]
  },
  {
   "cell_type": "code",
   "execution_count": 27,
   "metadata": {},
   "outputs": [
    {
     "data": {
      "text/plain": [
       "0.16886876599945652"
      ]
     },
     "execution_count": 27,
     "metadata": {},
     "output_type": "execute_result"
    }
   ],
   "source": [
    "z = []\n",
    "for i in range(len(y1)):\n",
    "    z.append(y2[i]-y1[i])\n",
    "res = sum(z) / len(z)\n",
    "res"
   ]
  },
  {
   "cell_type": "code",
   "execution_count": null,
   "metadata": {},
   "outputs": [],
   "source": []
  }
 ],
 "metadata": {
  "kernelspec": {
   "display_name": "Python 3",
   "language": "python",
   "name": "python3"
  },
  "language_info": {
   "codemirror_mode": {
    "name": "ipython",
    "version": 3
   },
   "file_extension": ".py",
   "mimetype": "text/x-python",
   "name": "python",
   "nbconvert_exporter": "python",
   "pygments_lexer": "ipython3",
   "version": "3.8.5"
  }
 },
 "nbformat": 4,
 "nbformat_minor": 4
}
